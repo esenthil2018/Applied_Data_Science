{
 "cells": [
  {
   "cell_type": "code",
   "execution_count": 4,
   "metadata": {},
   "outputs": [
    {
     "name": "stdout",
     "output_type": "stream",
     "text": [
      "[1, 2]\n",
      "[1 2]\n"
     ]
    }
   ],
   "source": [
    "import numpy as np \n",
    "import pandas as pd\n",
    "\n",
    "#Create a list and 1 dimensional ndarray with identical elements and show that slicing in both is the same. \n",
    "\n",
    "list = [1,2,3,4]\n",
    "narray =np.array([1,2,3,4])\n",
    "\n",
    "print(list[0:2])\n",
    "print(narray[0:2])\n",
    "\n"
   ]
  },
  {
   "cell_type": "code",
   "execution_count": 14,
   "metadata": {},
   "outputs": [
    {
     "name": "stdout",
     "output_type": "stream",
     "text": [
      "['Aniston' 'Perry' 'Cox' 'Joey' 'Kudrow' 'David']\n",
      "['Aniston' 'Perry' 'Cox' 'Joey' 'Kudrow' 'David' 'Steve' 'Jenna' 'John'\n",
      " 'Kaley' 'Johny' 'Jim']\n",
      "['Friends' 'Friends' 'Friends' 'Friends' 'Friends' 'Friends' 'Office'\n",
      " 'Office' 'Office' 'BBTheory' 'BBTheory' 'BBTheory']\n",
      "['Aniston' 'Perry' 'Cox' 'Joey' 'Kudrow' 'David']\n"
     ]
    }
   ],
   "source": [
    "#Choose 3 TV Series and create 2 ndarrays as follows: \n",
    "#The first ndarray called artists contains name of 12 actors/actresses from those three TV series.\n",
    "\n",
    "a = np.array(['game1','game2', 'game3','game4', 'game5'])\n",
    "artists = np.array (['Aniston','Perry','Cox','Joey','Kudrow','David','Steve','Jenna','John','Kaley','Johny','Jim'])\n",
    "shows = np.array (['Friends','Friends','Friends','Friends','Friends','Friends','Office','Office','Office','BBTheory','BBTheory','BBTheory'])\n",
    "shows =='Friends'\n",
    "selected_show = artists[ shows == 'Friends' ]\n",
    "print(selected_show)\n",
    "np.savez('test_arrays.npz', a1 = artists , a2 = shows , a3 = selected_show)\n",
    "c = np.load('test_arrays.npz')\n",
    "c.keys()\n",
    "artists_new = c['a1']\n",
    "shows_new = c['a2']\n",
    "selected_show_new = c['a3']\n",
    "print(artists_new)\n",
    "print(shows_new)\n",
    "print(selected_show_new)"
   ]
  },
  {
   "cell_type": "code",
   "execution_count": 27,
   "metadata": {},
   "outputs": [
    {
     "name": "stdout",
     "output_type": "stream",
     "text": [
      "manufacturer\n",
      "BMW     X1\n",
      "BMW     X3\n",
      "BMW     X4\n",
      "BMW     X5\n",
      "BMW     I3\n",
      "BMW     I8\n",
      "BMW    AM3\n",
      "dtype: object\n"
     ]
    }
   ],
   "source": [
    "#Pandas Basics:\n",
    "#Create a Series object as follows:\n",
    "#The Series object contains at least 7 car models with the index being car brands of 'BMW' , \n",
    "#e.g. data being X3 and the index is BMW.\n",
    "import pandas as pd\n",
    "s1 = pd.Series(['X1','X3','X4','X5','I3','I8','AM3'], index = ['BMW', 'BMW', 'BMW', 'BMW','BMW', 'BMW', 'BMW'])\n",
    "s1.isin(['*a*'])\n",
    "s1.index.name = 'manufacturer'\n",
    "print(s1)\n"
   ]
  },
  {
   "cell_type": "code",
   "execution_count": 52,
   "metadata": {},
   "outputs": [
    {
     "name": "stdout",
     "output_type": "stream",
     "text": [
      "        sport  number_of_players  ball_game popularity Best_player\n",
      "0      soccer                 11       True       High         TBD\n",
      "1    football                 11       True       High         TBD\n",
      "2  basketball                  5       True       High         TBD\n",
      "3    baseball                  5       True       High         TBD\n",
      "4      tennis                  1       True     Medium         TBD\n",
      "5     cricket                 11       True     Medium         TBD\n",
      "6   wrestling                  1      False        Low         TBD\n",
      "0\n",
      ",sport,number_of_players,ball_game,popularity,Best_player\n",
      "0,soccer,11,True,High,TBD\n",
      "1,football,11,True,High,TBD\n",
      "2,basketball,5,True,High,TBD\n",
      "3,baseball,5,True,High,TBD\n",
      "4,tennis,1,True,Medium,TBD\n",
      "5,cricket,11,True,Medium,TBD\n",
      "6,wrestling,1,False,Low,TBD\n",
      "   Unnamed: 0       sport  number_of_players  ball_game popularity Best_player\n",
      "0           0      soccer                 11       True       High         TBD\n",
      "1           1    football                 11       True       High         TBD\n",
      "2           2  basketball                  5       True       High         TBD\n",
      "3           3    baseball                  5       True       High         TBD\n",
      "4           4      tennis                  1       True     Medium         TBD\n",
      "5           5     cricket                 11       True     Medium         TBD\n",
      "6           6   wrestling                  1      False        Low         TBD\n"
     ]
    }
   ],
   "source": [
    "#Create a DataFrame as follows:\n",
    "import pandas as pd\n",
    "\n",
    "the_dict = { 'sport': ['soccer', 'football','basketball','baseball','tennis','cricket','wrestling'],\n",
    "             'number_of_players': [11,11,5,5,1,11,1] ,\n",
    "             'ball_game' : [True,True,True,True,True,True,False],\n",
    "             'popularity' : ['High','High','High','High','Medium','Medium','Low']}\n",
    "sport_df = pd.DataFrame(the_dict)\n",
    "sport_df = pd.DataFrame(sport_df, columns = ['sport','number_of_players','ball_game', 'popularity','Best_player'])\n",
    "sport_df['Best_player'] = 'TBD'\n",
    "print(sport_df)\n",
    "sport_df.iloc[0:3,0:2]\n",
    "\n",
    "def average_calculator(x):\n",
    "    return sum(x) / len(x)\n",
    "\n",
    "sport_df[['number_of_players']].apply(average_calculator,axis='rows')\n",
    "\n",
    "sport_df['sport'].sort_values()\n",
    "\n",
    "print(sport_df['number_of_players'].idxmax())\n",
    "\n",
    "sport_df.to_csv('sport_df.txt')\n",
    "\n",
    "!type sport_df.txt\n",
    "\n",
    "sport1_df = pd.read_csv('sport_df.txt')\n",
    "\n",
    "print(sport1_df)\n",
    "\n",
    "\n",
    "\n"
   ]
  }
 ],
 "metadata": {
  "kernelspec": {
   "display_name": "Python 3",
   "language": "python",
   "name": "python3"
  },
  "language_info": {
   "codemirror_mode": {
    "name": "ipython",
    "version": 3
   },
   "file_extension": ".py",
   "mimetype": "text/x-python",
   "name": "python",
   "nbconvert_exporter": "python",
   "pygments_lexer": "ipython3",
   "version": "3.6.5"
  }
 },
 "nbformat": 4,
 "nbformat_minor": 2
}
