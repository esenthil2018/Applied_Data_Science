{
 "cells": [
  {
   "cell_type": "code",
   "execution_count": 1,
   "metadata": {},
   "outputs": [
    {
     "name": "stdout",
     "output_type": "stream",
     "text": [
      "[2 3 4]\n",
      "[5 6 7]\n",
      "[[1 2 3]\n",
      " [4 5 6]]\n"
     ]
    }
   ],
   "source": [
    "#Import numpy and create 2 ndarrays with the same length and another one with a different length (3 arrays in total).\n",
    "import numpy as np\n",
    "a = np.array([2,3,4])\n",
    "b = np.array([5,6,7])\n",
    "c = np.array([(1,2,3), (4,5,6)])\n",
    "print(a)\n",
    "print(b)\n",
    "print(c)"
   ]
  },
  {
   "cell_type": "code",
   "execution_count": 4,
   "metadata": {},
   "outputs": [
    {
     "name": "stdout",
     "output_type": "stream",
     "text": [
      "[ 7  9 11]\n",
      "9\n",
      "2\n",
      "4\n"
     ]
    }
   ],
   "source": [
    "#Perform at least three operations of your choice on the arrays with the same size.\n",
    "\n",
    "d= a +b\n",
    "print(d)\n",
    "print(a.sum())\n",
    "print(a.min())\n",
    "print(a.max())\n"
   ]
  },
  {
   "cell_type": "code",
   "execution_count": 7,
   "metadata": {},
   "outputs": [
    {
     "name": "stdout",
     "output_type": "stream",
     "text": [
      "[10 18 28]\n",
      "[[ 3  6  9]\n",
      " [12 15 18]]\n",
      "[[ 6  8 10]\n",
      " [ 9 11 13]]\n"
     ]
    }
   ],
   "source": [
    "#Perform at least three operations of your choice on one element from two arrays. \n",
    "print(a*b)\n",
    "print(c *3)\n",
    "print(np.add(b, c))"
   ]
  },
  {
   "cell_type": "code",
   "execution_count": 13,
   "metadata": {},
   "outputs": [
    {
     "name": "stdout",
     "output_type": "stream",
     "text": [
      "<class 'str'>\n",
      "<class 'int'>\n",
      "<class 'float'>\n",
      "<class 'bool'>\n"
     ]
    }
   ],
   "source": [
    "#Create four variables containing a string, integer, float, and boolean and try to cast them to (in order) boolean, \n",
    "#float, integer, and string. \n",
    "a ='String'\n",
    "print(type(a))\n",
    "b = 100\n",
    "print(type (b))\n",
    "c = 10.10\n",
    "print(type (c))\n",
    "d = (a!=b)\n",
    "print(type(d))\n",
    "\n",
    "e = '5'\n",
    "print(e)"
   ]
  },
  {
   "cell_type": "code",
   "execution_count": 1,
   "metadata": {},
   "outputs": [
    {
     "name": "stdout",
     "output_type": "stream",
     "text": [
      "1\n",
      "2\n",
      "3\n",
      "four\n",
      "5\n",
      "6\n",
      "7\n",
      "eight\n",
      "9\n",
      "10\n"
     ]
    }
   ],
   "source": [
    "#Create an array containing numbers 1 to 10. Iterate through the array using a for loop. \n",
    "#Inside the for loop use some if statement to print the numbers \"four\" instead of 4 and \"eight\" instead of 8, \n",
    "#otherwise print the digit number. \n",
    "\n",
    "a = [1,2,3,4,5,6,7,8,9,10]\n",
    "\n",
    "for var in a:\n",
    "    if var == 4:\n",
    "        print('four')\n",
    "    elif var == 8:\n",
    "        print('eight')\n",
    "    else:\n",
    "        print(var)\n",
    "    \n",
    "    "
   ]
  },
  {
   "cell_type": "code",
   "execution_count": 5,
   "metadata": {},
   "outputs": [
    {
     "name": "stdout",
     "output_type": "stream",
     "text": [
      "1 2 3\n",
      "[5, 6, 7, 8, 1]\n",
      "[1, 5, 6]\n"
     ]
    }
   ],
   "source": [
    "#Create a tuple containing 3 numbers and a list containing 5 numbers.\n",
    "\n",
    "a = (1,2,3)\n",
    "b = [4,5,6,7,8]\n",
    "\n",
    "#Unpack the tuple into 3 different variables and print them\n",
    "\n",
    "c,d,e = a\n",
    "print(c,d,e)\n",
    "\n",
    "#Then try to remove an element from the list\n",
    "\n",
    "b.remove(4)\n",
    "\n",
    "#and instead insert one of the variables that were the result of unpacked tuple.\n",
    "\n",
    "b.append(c)\n",
    "print(b)\n",
    "#Finally, slice and sort the first 3 elements of the list. \n",
    "\n",
    "b.sort()\n",
    "f = b[0:3]\n",
    "print(f)"
   ]
  },
  {
   "cell_type": "code",
   "execution_count": 6,
   "metadata": {},
   "outputs": [
    {
     "name": "stdout",
     "output_type": "stream",
     "text": [
      "dict_keys(['int', 'float', 'string', 'boolean', 'list', 'set', 'tuple', 'dict'])\n",
      "dict_values([1, 2.1, 'My String', 'True', [1, 2, 3], (1, 2, 3), (1, 2), {'i': 1, 'j': 2}])\n"
     ]
    }
   ],
   "source": [
    "#Create a dictionary with these keys: 'int', 'float', 'string', 'boolean', 'list', 'set', 'tuple' and 'dict' \n",
    "#and for each key, assign the value of that specific type. For instance, you should create a temporary small \n",
    "#dictionary to assign to the 'dict'. \n",
    "\n",
    "a = { \"i\":1, \"j\":2 }\n",
    "\n",
    "b = { \"int\":1, \"float\":2.1,\"string\":'My String', \"boolean\":'True',\"list\":[1,2,3], \"set\":(1,2,3),\"tuple\":(1,2),\"dict\":a }\n",
    "\n",
    "print(b.keys())\n",
    "print(b.values())\n"
   ]
  },
  {
   "cell_type": "code",
   "execution_count": 15,
   "metadata": {},
   "outputs": [
    {
     "name": "stdout",
     "output_type": "stream",
     "text": [
      "3-->a\n",
      "4-->b\n",
      "5-->c\n",
      "6-->d\n",
      "7-->e\n",
      "8-->f\n"
     ]
    }
   ],
   "source": [
    "#Create a list containing letters 'a' to 'f', then using a for loop and proper sequence function, produce the following\n",
    "\n",
    "a = ['a','b','c','d','e','f']\n",
    "\n",
    "#3 --> a \n",
    "\n",
    "for index,letter in enumerate(a):\n",
    "    index += 3\n",
    "    print(str(index) + '-->' + str(letter))\n",
    "    \n",
    "    "
   ]
  },
  {
   "cell_type": "code",
   "execution_count": 18,
   "metadata": {},
   "outputs": [
    {
     "name": "stdout",
     "output_type": "stream",
     "text": [
      "['a', 'b', 'c', 'd', 'e', 'f']\n",
      "['a', 'b', 'c', 'd', 'e', 'f']\n",
      "['g', 'b', 'c', 'd', 'e', 'f']\n",
      "['a', 'b', 'c', 'd', 'e', 'f']\n"
     ]
    }
   ],
   "source": [
    "#By copying the previous list, create a new variable containing the same 'a' to 'f' elements from the previous list. \n",
    "#Change an element in one of the variables and make sure the other doesn't change. \n",
    "\n",
    "b = a.copy()\n",
    "print(b)\n",
    "print(a)\n",
    "b[0] = 'g'\n",
    "print(b)\n",
    "print(a)"
   ]
  },
  {
   "cell_type": "code",
   "execution_count": 23,
   "metadata": {},
   "outputs": [
    {
     "name": "stdout",
     "output_type": "stream",
     "text": [
      "Tuples are immutable\n"
     ]
    }
   ],
   "source": [
    "#Create a variable containing a tuple object. Then try to change its first element the way you change an element in a list and \n",
    "#see what kind of error you will get. Then try to catch handle the error and instead of \n",
    "#the error print \"Tuples are immutable :)\" \n",
    "\n",
    "t = (1,2,3)\n",
    "try:\n",
    "    t[0] = 4\n",
    "except TypeError:\n",
    "    print ('Tuples are immutable')\n"
   ]
  }
 ],
 "metadata": {
  "kernelspec": {
   "display_name": "Python 3",
   "language": "python",
   "name": "python3"
  },
  "language_info": {
   "codemirror_mode": {
    "name": "ipython",
    "version": 3
   },
   "file_extension": ".py",
   "mimetype": "text/x-python",
   "name": "python",
   "nbconvert_exporter": "python",
   "pygments_lexer": "ipython3",
   "version": "3.6.5"
  }
 },
 "nbformat": 4,
 "nbformat_minor": 2
}
